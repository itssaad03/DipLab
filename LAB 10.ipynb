{
 "cells": [
  {
   "cell_type": "markdown",
   "metadata": {},
   "source": [
    "Imports"
   ]
  },
  {
   "cell_type": "code",
   "execution_count": 3,
   "metadata": {},
   "outputs": [],
   "source": [
    "import cv2\n",
    "import numpy as np\n",
    "\n",
    "def displayImg(title,image):\n",
    "    cv2.imshow(title,image)\n",
    "    cv2.waitKey(0)\n",
    "    cv2.destroyAllWindows()\n",
    "    "
   ]
  },
  {
   "cell_type": "markdown",
   "metadata": {},
   "source": [
    "Task#1"
   ]
  },
  {
   "cell_type": "code",
   "execution_count": 5,
   "metadata": {},
   "outputs": [],
   "source": [
    "image = cv2.imread('task1.png',cv2.IMREAD_GRAYSCALE)\n",
    "\n",
    "horizontalMask = np.array([[-1, -1, -1], [2, 2, 2], [-1, -1, -1]])\n",
    "verticalMask = np.array([[-1, 2, -1], [-1, 2, -1], [-1, 2, -1]])\n",
    "diag1Mask = np.array([[2, -1, -1], [-1, 2, -1], [-1, -1, 2]])\n",
    "diag2Mask = np.array([[-1, -1, 2], [-1, 2, -1], [2, -1, -1]])\n",
    "\n",
    "\n",
    "hLines = cv2.filter2D(image, -1, horizontalMask)\n",
    "vLines = cv2.filter2D(image, -1, verticalMask)\n",
    "diag1Lines = cv2.filter2D(image, -1, diag1Mask)\n",
    "diag2Lines = cv2.filter2D(image, -1, diag2Mask)\n",
    "\n",
    "displayImg('Horizontal Lines',hLines)\n",
    "displayImg('Vertical Lines',vLines)\n",
    "displayImg('Diagnol 1 Lines',diag1Lines)\n",
    "displayImg('Diagnol 2 Lines',diag2Lines)\n",
    "\n",
    "\n",
    "\n"
   ]
  },
  {
   "cell_type": "markdown",
   "metadata": {},
   "source": [
    "Task#2"
   ]
  },
  {
   "cell_type": "code",
   "execution_count": 9,
   "metadata": {},
   "outputs": [],
   "source": [
    "image = cv2.imread('task2.png',cv2.IMREAD_GRAYSCALE)\n",
    "\n",
    "sobelX = cv2.Sobel(image,cv2.CV_64F,1,0,ksize=3)\n",
    "sobelY = cv2.Sobel(image,cv2.CV_64F,0,1,ksize=3)\n",
    "sobel = cv2.magnitude(sobelX,sobelY)\n",
    "\n",
    "sobelX = cv2.convertScaleAbs(sobelX)\n",
    "sobelY = cv2.convertScaleAbs(sobelY)\n",
    "sobel = cv2.convertScaleAbs(sobel)\n",
    "\n",
    "displayImg('SobelX',sobelX)\n",
    "displayImg('SobelY',sobelY)\n",
    "displayImg('Sobel',sobel)\n",
    "\n",
    "\n"
   ]
  },
  {
   "cell_type": "markdown",
   "metadata": {},
   "source": [
    "Task#3"
   ]
  },
  {
   "cell_type": "code",
   "execution_count": 10,
   "metadata": {},
   "outputs": [],
   "source": [
    "image = cv2.imread('task3.png',cv2.IMREAD_GRAYSCALE)\n",
    "blurImage = cv2.GaussianBlur(image,(5,5),0)\n",
    "edges = cv2.Canny(blurImage,threshold1=50,threshold2=150)\n",
    "kernel = np.ones((3,3),np.uint8)\n",
    "dilatedEdges = cv2.dilate(edges,kernel,iterations=1)\n",
    "\n",
    "displayImg('Original',image)\n",
    "displayImg('Processed',dilatedEdges)\n"
   ]
  }
 ],
 "metadata": {
  "kernelspec": {
   "display_name": "base",
   "language": "python",
   "name": "python3"
  },
  "language_info": {
   "codemirror_mode": {
    "name": "ipython",
    "version": 3
   },
   "file_extension": ".py",
   "mimetype": "text/x-python",
   "name": "python",
   "nbconvert_exporter": "python",
   "pygments_lexer": "ipython3",
   "version": "3.12.7"
  }
 },
 "nbformat": 4,
 "nbformat_minor": 2
}
