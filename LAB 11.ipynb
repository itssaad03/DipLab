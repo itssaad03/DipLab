{
 "cells": [
  {
   "cell_type": "markdown",
   "metadata": {},
   "source": [
    "Imports"
   ]
  },
  {
   "cell_type": "code",
   "execution_count": 1,
   "metadata": {},
   "outputs": [],
   "source": [
    "import cv2\n",
    "import numpy as np\n",
    "import matplotlib.pyplot as plt\n",
    "\n",
    "def displayImg(title,img):\n",
    "    cv2.imshow(title,img)\n",
    "    cv2.waitKey(0)\n",
    "    cv2.destroyAllWindows()"
   ]
  },
  {
   "cell_type": "markdown",
   "metadata": {},
   "source": [
    "Task#1: Find Boundaries from the Image"
   ]
  },
  {
   "cell_type": "code",
   "execution_count": 2,
   "metadata": {},
   "outputs": [
    {
     "name": "stdout",
     "output_type": "stream",
     "text": [
      "[[1 1 1 1 1]\n",
      " [1 1 1 1 1]\n",
      " [1 1 1 1 1]\n",
      " [1 1 1 1 1]\n",
      " [1 1 1 1 1]]\n"
     ]
    }
   ],
   "source": [
    "img = cv2.imread('task1.png',cv2.IMREAD_GRAYSCALE)\n",
    "_,binary_image = cv2.threshold(img,128,255,cv2.THRESH_BINARY)\n",
    "\n",
    "displayImg('Original Image',img)\n",
    "displayImg('Binarized Image',binary_image)\n",
    "\n",
    "# kernel = cv2.getStructuringElement(cv2.MORPH_ELLIPSE,(5,5))\n",
    "kernel = np.array(\n",
    "    [\n",
    "        [1,1,1,1,1],\n",
    "     [1,1,1,1,1],\n",
    "      [1,1,1,1,1],\n",
    "       [1,1,1,1,1],\n",
    "        [1,1,1,1,1]\n",
    "    ]\n",
    ")\n",
    "print(kernel)\n",
    "\n",
    "closedImg = cv2.morphologyEx(binary_image, cv2.MORPH_CLOSE, kernel)\n",
    "displayImg('Closed Image',closedImg)\n",
    "    \n",
    "\n",
    "erodedImg = cv2.erode(closedImg, kernel)\n",
    "displayImg('Eroded Image',erodedImg)\n",
    "\n",
    "    \n",
    "boundary_img = cv2.subtract(closedImg, erodedImg)\n",
    "displayImg('Boundary Image',boundary_img)\n"
   ]
  },
  {
   "cell_type": "markdown",
   "metadata": {},
   "source": [
    "Task#2: Use opening operator to seperate horizontal and vertical lines"
   ]
  },
  {
   "cell_type": "code",
   "execution_count": 3,
   "metadata": {},
   "outputs": [],
   "source": [
    "linesImg = cv2.imread('lines.png',cv2.IMREAD_GRAYSCALE)\n",
    "\n",
    "# We binarize but over here image is already black and white\n",
    "# _,binary_image = cv2.threshold(linesImg,128,255,cv2.THRESH_BINARY)\n",
    "\n",
    "# Failed: Not Good Output\n",
    "# horizontalKernel = cv2.getStructuringElement(cv2.MORPH_RECT,(7,3))\n",
    "# verticalKernel = cv2.getStructuringElement(cv2.MORPH_RECT,(3,7))\n",
    "\n",
    "# Failed Not Good Output\n",
    "# horizontalKernel = cv2.getStructuringElement(cv2.MORPH_RECT,(9,3))\n",
    "# verticalKernel = cv2.getStructuringElement(cv2.MORPH_RECT,(3,9))\n",
    "\n",
    "horizontalKernel = np.ones((3,11), dtype=np.uint8)\n",
    "verticalKernel = np.ones((11, 3), dtype=np.uint8)\n",
    "\n",
    "# horizontalKernel = cv2.getStructuringElement(cv2.MORPH_RECT,(11,3))\n",
    "# verticalKernel = cv2.getStructuringElement(cv2.MORPH_RECT,(3,11))\n",
    "\n",
    "\n",
    "horizontalLines = cv2.morphologyEx(linesImg,cv2.MORPH_OPEN,horizontalKernel)\n",
    "verticalLines = cv2.morphologyEx(linesImg,cv2.MORPH_OPEN,verticalKernel)\n",
    "\n",
    "displayImg('Original Image',linesImg)\n",
    "displayImg('Horizontal Lines',horizontalLines)\n",
    "displayImg('Vertical Lines',verticalLines)\n",
    "\n"
   ]
  },
  {
   "cell_type": "markdown",
   "metadata": {},
   "source": [
    "Task#3: "
   ]
  },
  {
   "cell_type": "code",
   "execution_count": 4,
   "metadata": {},
   "outputs": [
    {
     "name": "stdout",
     "output_type": "stream",
     "text": [
      "Number of lines: 6\n",
      "Number of words: 13\n"
     ]
    }
   ],
   "source": [
    "\n",
    "img = cv2.imread('task3.png', cv2.IMREAD_GRAYSCALE)\n",
    "displayImg('Original Image',img)\n",
    "\n",
    "_, binary_image = cv2.threshold(img, 128, 255, cv2.THRESH_BINARY_INV)\n",
    "displayImg('Binarized Image',binary_image)\n",
    "\n",
    "\n",
    "binary_image = cv2.bitwise_not(binary_image)\n",
    "\n",
    "kernel_line = np.ones((1, 50), np.uint8)\n",
    "dilated_image_lines = cv2.dilate(binary_image, kernel_line, iterations=1)\n",
    "displayImg('Dilated Image Lines',dilated_image_lines)\n",
    "num_labels_lines, labels_lines = cv2.connectedComponents(dilated_image_lines)\n",
    "num_lines = num_labels_lines - 1  \n",
    "\n",
    "kernel_word = np.ones((1, 8), np.uint8)\n",
    "dilated_image_words = cv2.dilate(binary_image, kernel_word, iterations=1)\n",
    "displayImg('Dilated Image Words',dilated_image_words)\n",
    "num_labels_words, labels_words = cv2.connectedComponents(dilated_image_words)\n",
    "num_words = num_labels_words - 1  \n",
    "\n",
    "print(f\"Number of lines: {num_lines}\")\n",
    "print(f\"Number of words: {num_words}\")\n"
   ]
  },
  {
   "cell_type": "markdown",
   "metadata": {},
   "source": [
    "Task#4: Make a bounding box around text inside an image"
   ]
  },
  {
   "cell_type": "code",
   "execution_count": 5,
   "metadata": {},
   "outputs": [],
   "source": [
    "img = cv2.imread('task4.png',cv2.IMREAD_GRAYSCALE)\n",
    "displayImg('Original Image',img)\n",
    "\n",
    "_, binary_image = cv2.threshold(img, 128, 255, cv2.THRESH_BINARY_INV)\n",
    "displayImg('Binarized Image',binary_image)\n",
    "\n",
    "kernel = cv2.getStructuringElement(cv2.MORPH_RECT, (5, 5))  \n",
    "dilated = cv2.dilate(binary_image, kernel, iterations=1)          \n",
    "\n",
    "contours, _ = cv2.findContours(dilated, cv2.RETR_EXTERNAL, cv2.CHAIN_APPROX_SIMPLE)\n",
    "\n",
    "for contour in contours:\n",
    "    x, y, w, h = cv2.boundingRect(contour)\n",
    "    if w > 10 and h > 10: \n",
    "        cv2.rectangle(img, (x, y), (x + w, y + h), (0, 255, 0), 2)\n",
    "\n",
    "displayImg(\"Bounding Boxes\",img=img)\n"
   ]
  }
 ],
 "metadata": {
  "kernelspec": {
   "display_name": "base",
   "language": "python",
   "name": "python3"
  },
  "language_info": {
   "codemirror_mode": {
    "name": "ipython",
    "version": 3
   },
   "file_extension": ".py",
   "mimetype": "text/x-python",
   "name": "python",
   "nbconvert_exporter": "python",
   "pygments_lexer": "ipython3",
   "version": "3.12.7"
  }
 },
 "nbformat": 4,
 "nbformat_minor": 2
}
