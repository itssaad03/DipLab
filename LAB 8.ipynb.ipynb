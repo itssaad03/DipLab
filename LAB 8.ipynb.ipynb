{
 "cells": [
  {
   "cell_type": "markdown",
   "metadata": {},
   "source": [
    "Imports"
   ]
  },
  {
   "cell_type": "code",
   "execution_count": 5,
   "metadata": {},
   "outputs": [],
   "source": [
    "import cv2\n",
    "import numpy as np\n",
    "\n",
    "def displayImg(title,image):\n",
    "    cv2.imshow(title,image)\n",
    "    cv2.waitKey(0)\n",
    "    cv2.destroyAllWindows()"
   ]
  },
  {
   "cell_type": "markdown",
   "metadata": {},
   "source": [
    "Task#1"
   ]
  },
  {
   "cell_type": "code",
   "execution_count": 7,
   "metadata": {},
   "outputs": [],
   "source": [
    "image = cv2.imread('image.png')\n",
    "kernel = np.ones((5,5), np.float32)/25\n",
    "filter = cv2.filter2D(image,-1,kernel)\n",
    "gaussianFilter = cv2.GaussianBlur(image,(5,5),0)\n",
    "\n",
    "displayImg('Original Image',image)\n",
    "displayImg('Average Filter',filter)\n",
    "displayImg('Gaussian Filter',gaussianFilter)\n",
    "\n",
    "\n"
   ]
  },
  {
   "cell_type": "markdown",
   "metadata": {},
   "source": [
    "Task#2"
   ]
  },
  {
   "cell_type": "code",
   "execution_count": 8,
   "metadata": {},
   "outputs": [],
   "source": [
    "image = cv2.imread('image.png')\n",
    "rankFilter = cv2.medianBlur(image,5)\n",
    "displayImg('Rank Filter',rankFilter)"
   ]
  },
  {
   "cell_type": "markdown",
   "metadata": {},
   "source": [
    "Task#3"
   ]
  },
  {
   "cell_type": "code",
   "execution_count": 14,
   "metadata": {},
   "outputs": [],
   "source": [
    "image = cv2.imread('image.png',cv2.IMREAD_GRAYSCALE)\n",
    "kernelX = np.array([[-1,0,1],[-2,0,2],[-1,0,1]],np.float32)\n",
    "kernelY = np.array([[-1,-2,-1],[0,0,0],[1,2,1]],np.float32)\n",
    "gradX = cv2.filter2D(image,-1,kernelX)\n",
    "gradY = cv2.filter2D(image,-1,kernelY)\n",
    "grad = np.sqrt(np.square(gradX,dtype=np.float64) + np.square(gradY,dtype=np.float64))\n",
    "grad = np.clip(grad,0,255).astype(np.uint8)\n",
    "grad = cv2.convertScaleAbs(grad)\n",
    "\n",
    "displayImg('Laplacian Filter',grad)\n",
    "\n",
    "sobelX = cv2.Sobel(image,cv2.CV_64F,1,0,ksize=3)\n",
    "sobelY = cv2.Sobel(image,cv2.CV_64F,0,1,ksize=3)\n",
    "sobelEdges = np.sqrt(np.square(sobelX) + np.square(sobelY))\n",
    "sobelEdges = np.clip(sobelEdges,0,255).astype(np.uint8)\n",
    "sobelEdges = cv2.convertScaleAbs(sobelEdges)\n",
    "\n",
    "displayImg('Sobel Filter',sobelEdges)"
   ]
  }
 ],
 "metadata": {
  "kernelspec": {
   "display_name": "base",
   "language": "python",
   "name": "python3"
  },
  "language_info": {
   "codemirror_mode": {
    "name": "ipython",
    "version": 3
   },
   "file_extension": ".py",
   "mimetype": "text/x-python",
   "name": "python",
   "nbconvert_exporter": "python",
   "pygments_lexer": "ipython3",
   "version": "3.12.7"
  }
 },
 "nbformat": 4,
 "nbformat_minor": 2
}
