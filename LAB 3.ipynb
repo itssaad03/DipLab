{
 "cells": [
  {
   "cell_type": "code",
   "execution_count": 2,
   "id": "c5d1dc6b-8e87-428e-98b9-89eb80d4a5e9",
   "metadata": {},
   "outputs": [
    {
     "name": "stdout",
     "output_type": "stream",
     "text": [
      "Defaulting to user installation because normal site-packages is not writeable\n",
      "Requirement already satisfied: Pillow in c:\\programdata\\anaconda3\\lib\\site-packages (10.3.0)\n",
      "Note: you may need to restart the kernel to use updated packages.\n"
     ]
    }
   ],
   "source": [
    "pip install Pillow"
   ]
  },
  {
   "cell_type": "code",
   "execution_count": 4,
   "id": "36401b7f-7360-4cc6-b1f6-e22cb2922414",
   "metadata": {},
   "outputs": [
    {
     "name": "stdout",
     "output_type": "stream",
     "text": [
      "Defaulting to user installation because normal site-packages is not writeable\n",
      "Requirement already satisfied: opencv-python in c:\\users\\student\\appdata\\roaming\\python\\python312\\site-packages (4.10.0.84)\n",
      "Requirement already satisfied: numpy>=1.21.2 in c:\\programdata\\anaconda3\\lib\\site-packages (from opencv-python) (1.26.4)\n",
      "Note: you may need to restart the kernel to use updated packages.\n"
     ]
    }
   ],
   "source": [
    "pip install opencv-python\n"
   ]
  },
  {
   "cell_type": "code",
   "execution_count": 6,
   "id": "478cef9e-7ae5-4444-8d1b-8a5a22b6bba8",
   "metadata": {},
   "outputs": [
    {
     "name": "stdout",
     "output_type": "stream",
     "text": [
      "Dimensions: 400 x 600\n",
      "Number of channels: 3\n"
     ]
    }
   ],
   "source": [
    "import cv2\n",
    "\n",
    "image = cv2.imread(\"1.jpg\")\n",
    "\n",
    "dimensions = image.shape\n",
    "height, width, channels = dimensions\n",
    "\n",
    "print(f\"Dimensions: {height} x {width}\")\n",
    "print(f\"Number of channels: {channels}\")\n",
    "\n",
    "cv2.imshow('cr', image)\n",
    "cv2.waitKey(0)\n",
    "cv2.destroyAllWindows()"
   ]
  },
  {
   "cell_type": "code",
   "execution_count": 8,
   "id": "3d5c6be7-61d5-44a9-9bf9-542db6068830",
   "metadata": {},
   "outputs": [
    {
     "name": "stdout",
     "output_type": "stream",
     "text": [
      "Width: 600 pixels\n",
      "Height: 400 pixels\n",
      "Bit Depth: 24 bits\n",
      "Coding Method: JPEG/PNG \n",
      "File Size: 26405 bytes\n",
      "Creation Date: 2024-09-26 13:24:36.197121\n"
     ]
    }
   ],
   "source": [
    "import cv2\n",
    "import os\n",
    "from datetime import datetime\n",
    "\n",
    "# Load the image\n",
    "image_path = (\"1.jpg\")\n",
    "image = cv2.imread(image_path)\n",
    "\n",
    "# Get properties\n",
    "height, width, channels = image.shape\n",
    "file_size = os.path.getsize(image_path)\n",
    "creation_time = os.path.getctime(image_path)\n",
    "creation_time = datetime.fromtimestamp(creation_time)\n",
    "\n",
    "# Bit depth (assuming 8 bits per channel for most common formats)\n",
    "bit_depth = 8 * channels  # 8 bits per channel\n",
    "\n",
    "# Display properties\n",
    "print(f\"Width: {width} pixels\")\n",
    "print(f\"Height: {height} pixels\")\n",
    "print(f\"Bit Depth: {bit_depth} bits\")\n",
    "print(f\"Coding Method: JPEG/PNG \")\n",
    "print(f\"File Size: {file_size} bytes\")\n",
    "print(f\"Creation Date: {creation_time}\")"
   ]
  },
  {
   "cell_type": "code",
   "execution_count": 10,
   "id": "07018083-182f-4c47-aee5-a52b961809c9",
   "metadata": {},
   "outputs": [],
   "source": [
    "import cv2\n",
    "\n",
    "image_path = (\"1.jpg\")\n",
    "image = cv2.imread(image_path)\n",
    "\n",
    "gray_image = cv2.cvtColor(image, cv2.COLOR_BGR2GRAY)\n",
    "\n",
    "_, binarized_image = cv2.threshold(gray_image, 127, 255, cv2.THRESH_BINARY)\n",
    "\n",
    "cv2.imshow('Original Image', image)\n",
    "cv2.imshow('Binarized Image', binarized_image)\n",
    "\n",
    "cv2.waitKey(0)\n",
    "cv2.destroyAllWindows()"
   ]
  },
  {
   "cell_type": "code",
   "execution_count": 14,
   "id": "31a22709-3915-4a7b-909a-f8e6d4f24be0",
   "metadata": {},
   "outputs": [
    {
     "name": "stdout",
     "output_type": "stream",
     "text": [
      "This is a three-channel image.\n"
     ]
    }
   ],
   "source": [
    "\n",
    "image_path = (\"1.jpg\")  \n",
    "image = cv2.imread(image_path)\n",
    "\n",
    "height, width, channels = image.shape if len(image.shape) == 3 else (image.shape[0], image.shape[1], 1)\n",
    "\n",
    "if channels == 3:\n",
    "    print(\"This is a three-channel image.\")\n",
    "    \n",
    "    gray_image = cv2.cvtColor(image, cv2.COLOR_BGR2GRAY)\n",
    "    \n",
    "    _, binarized_image = cv2.threshold(gray_image, 127, 255, cv2.THRESH_BINARY)\n",
    "    \n",
    "    cv2.imshow('Binarized Image', binarized_image)\n",
    "elif channels == 1:\n",
    "    print(\"This is a one-channel image.\")\n",
    "    \n",
    "    cv2.imshow('One-Channel Image', image)\n",
    "else:\n",
    "    print(\"Unexpected number of channels.\")\n",
    "\n",
    "cv2.imshow('Original Image', image)\n",
    "\n",
    "cv2.waitKey(0)\n",
    "cv2.destroyAllWindows()\n"
   ]
  },
  {
   "cell_type": "code",
   "execution_count": 1,
   "id": "670e8f64-6cf6-4dee-8701-30ee8e2b9998",
   "metadata": {},
   "outputs": [
    {
     "name": "stdout",
     "output_type": "stream",
     "text": [
      "This is a three-channel image.\n"
     ]
    }
   ],
   "source": [
    "import cv2\n",
    "import numpy as np\n",
    "\n",
    "image_path = (\"1.jpg\")  \n",
    "image = cv2.imread(image_path)\n",
    "\n",
    "if image is None:\n",
    "    print(\"Error: Image not found.\")\n",
    "    exit()\n",
    "\n",
    "height, width, channels = image.shape if len(image.shape) == 3 else (image.shape[0], image.shape[1], 1)\n",
    "\n",
    "if channels == 3:\n",
    "    print(\"This is a three-channel image.\")\n",
    "    \n",
    "    gray_image = cv2.cvtColor(image, cv2.COLOR_BGR2GRAY)\n",
    "elif channels == 1:\n",
    "    print(\"This is a one-channel image.\")\n",
    "    gray_image = image\n",
    "else:\n",
    "    print(\"Unexpected number of channels.\")\n",
    "    exit()\n",
    "\n",
    "threshold = 127\n",
    "\n",
    "binarized_image = np.zeros((height, width), dtype=np.uint8)\n",
    "\n",
    "for i in range(height):\n",
    "    for j in range(width):\n",
    "        if gray_image[i, j] > threshold:\n",
    "            binarized_image[i, j] = 255  \n",
    "        else:\n",
    "            binarized_image[i, j] = 0    \n",
    "\n",
    "cv2.imshow('Original Image', image)\n",
    "cv2.imshow('Binarized Image', binarized_image)\n",
    "\n",
    "cv2.waitKey(0)\n",
    "cv2.destroyAllWindows()"
   ]
  },
  {
   "cell_type": "code",
   "execution_count": null,
   "id": "12037bff-9912-47d8-9bd9-5e1a18968a53",
   "metadata": {},
   "outputs": [],
   "source": []
  }
 ],
 "metadata": {
  "kernelspec": {
   "display_name": "Python 3 (ipykernel)",
   "language": "python",
   "name": "python3"
  },
  "language_info": {
   "codemirror_mode": {
    "name": "ipython",
    "version": 3
   },
   "file_extension": ".py",
   "mimetype": "text/x-python",
   "name": "python",
   "nbconvert_exporter": "python",
   "pygments_lexer": "ipython3",
   "version": "3.12.4"
  }
 },
 "nbformat": 4,
 "nbformat_minor": 5
}
