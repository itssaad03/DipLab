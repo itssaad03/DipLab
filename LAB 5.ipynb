{
 "cells": [
  {
   "cell_type": "code",
   "execution_count": 1,
   "metadata": {},
   "outputs": [],
   "source": [
    "import cv2\n",
    "import numpy as np\n",
    "\n",
    "def displayImage(title,image):\n",
    "    cv2.imshow(title,image)\n",
    "    cv2.waitKey(0)\n",
    "    cv2.destroyAllWindows()"
   ]
  },
  {
   "cell_type": "markdown",
   "metadata": {},
   "source": [
    "Task#1: "
   ]
  },
  {
   "cell_type": "markdown",
   "metadata": {},
   "source": [
    "Brightness Adjustment"
   ]
  },
  {
   "cell_type": "code",
   "execution_count": 2,
   "metadata": {},
   "outputs": [],
   "source": [
    "dimImage = cv2.imread('dimImage.jpg')\n",
    "displayImage('Original Brightness Image',dimImage)\n",
    "\n",
    "#This commented code works too btw, I wrote it cos I wanted to do it manually\n",
    "# height, width, channels = dimImage.shape\n",
    "\n",
    "# for i in range(height):\n",
    "#     for j in range(width):\n",
    "#         for k in range(channels):\n",
    "#             dimImage[i,j,k] +=  50\n",
    "#             if dimImage[i,j,k] > 255:\n",
    "#                 dimImage[i,j,k] = 255\n",
    "#             elif dimImage[i,j,k] <0:\n",
    "#                 dimImage[i,j,k] = 0\n",
    "\n",
    "dimImage = cv2.add(dimImage,50)\n",
    "displayImage('After Increasing Brightness',dimImage)\n",
    "\n",
    "dimImage = cv2.subtract(dimImage,100)\n",
    "displayImage('After Decreasing Brightness',dimImage)\n",
    "\n"
   ]
  },
  {
   "cell_type": "markdown",
   "metadata": {},
   "source": [
    "Contrast Adjustment\n"
   ]
  },
  {
   "cell_type": "code",
   "execution_count": 3,
   "metadata": {},
   "outputs": [],
   "source": [
    "alpha = 1.5\n",
    "beta = 50\n",
    "\n",
    "contrastImage = cv2.imread('contrast.jpeg')\n",
    "displayImage('Before Contrast',contrastImage)\n",
    "            \n",
    "height, width, channels = contrastImage.shape\n",
    "for i in range(height):\n",
    "    for j in range(width):\n",
    "        for k in range(channels):\n",
    "            new_value = alpha * contrastImage[i, j, k] + beta\n",
    "            if new_value > 255:\n",
    "                new_value = 255\n",
    "            elif new_value < 0:\n",
    "                new_value = 0            \n",
    "            contrastImage[i, j, k] = new_value\n",
    "\n",
    "#This is a shorter way of implementing it using np.clip()\n",
    "# contrastImage = np.clip(alpha * contrastImage.astype(np.float32)+beta,0,255)\n",
    "# contrastImage = contrastImage.astype(np.uint8)\n",
    "displayImage('After Contrast',contrastImage)\n",
    "\n",
    "\n"
   ]
  },
  {
   "cell_type": "markdown",
   "metadata": {},
   "source": [
    "Gamma Correction"
   ]
  },
  {
   "cell_type": "code",
   "execution_count": 4,
   "metadata": {},
   "outputs": [],
   "source": [
    "gamma = 2.2\n",
    "gammaImage = cv2.imread('contrast.jpeg')\n",
    "displayImage('Before Gamma Correction',gammaImage)\n",
    "\n",
    "height, width, channels = contrastImage.shape\n",
    "for i in range(height):\n",
    "    for j in range(width):\n",
    "        for k in range(channels):\n",
    "            normalizedPixel = gammaImage[i,j,k]/255.0\n",
    "            corrected_pixel = normalizedPixel ** (1.0/gamma)\n",
    "            corrected_pixel = np.clip(corrected_pixel*255,0,255)\n",
    "            gammaImage[i,j,k] = int(corrected_pixel)\n",
    "\n",
    "displayImage('After Gamma Correction',gammaImage)\n",
    "\n",
    "\n",
    "\n"
   ]
  },
  {
   "cell_type": "markdown",
   "metadata": {},
   "source": [
    "Inverse Transformation (Negative)\n",
    "Convert the image to its negative.\n",
    "Hint: Subtract each pixel value from 255.\n"
   ]
  },
  {
   "cell_type": "code",
   "execution_count": 5,
   "metadata": {},
   "outputs": [],
   "source": [
    "inverseImage = cv2.imread('contrast.jpeg')\n",
    "displayImage('Before Inverse Transformation',inverseImage)\n",
    "\n",
    "height, width, channels = inverseImage.shape\n",
    "for i in range(height):\n",
    "    for j in range(width):\n",
    "        for k in range(channels):\n",
    "            inverseImage[i,j,k] = 255 - inverseImage[i,j,k]\n",
    "\n",
    "displayImage('After Inverse Transformation',inverseImage)"
   ]
  },
  {
   "cell_type": "markdown",
   "metadata": {},
   "source": [
    "Task#2: Diadic Operations"
   ]
  },
  {
   "cell_type": "code",
   "execution_count": 6,
   "metadata": {},
   "outputs": [],
   "source": [
    "backgroundImage = cv2.imread('background.jpg')  \n",
    "greenScreenImage = cv2.imread('images.jpg') \n",
    "\n",
    "backgroundImage = cv2.resize(backgroundImage, (greenScreenImage.shape[1], greenScreenImage.shape[0]))\n",
    "\n",
    "\n",
    "displayImage('Image 1', backgroundImage)\n",
    "displayImage('Image 2', greenScreenImage)"
   ]
  },
  {
   "cell_type": "markdown",
   "metadata": {},
   "source": [
    "Addition"
   ]
  },
  {
   "cell_type": "code",
   "execution_count": 7,
   "metadata": {},
   "outputs": [],
   "source": [
    "additionResult = cv2.add(backgroundImage, greenScreenImage)\n",
    "\n",
    "#This is exceeding 255 we can use loops to prevent that\n",
    "# additionResult = backgroundImage + greenScreenImage\n",
    "\n",
    "displayImage('Addition Result', additionResult)\n",
    "\n",
    "\n"
   ]
  },
  {
   "cell_type": "markdown",
   "metadata": {},
   "source": [
    "Subtraction"
   ]
  },
  {
   "cell_type": "code",
   "execution_count": 8,
   "metadata": {},
   "outputs": [],
   "source": [
    "backgroundImage = cv2.imread('background.jpg')  \n",
    "greenScreenImage = cv2.imread('images.jpg') \n",
    "\n",
    "backgroundImage = cv2.resize(backgroundImage, (greenScreenImage.shape[1], greenScreenImage.shape[0]))\n",
    "subtractionResult = cv2.subtract(backgroundImage, greenScreenImage)\n",
    "displayImage('Subtraction Result', subtractionResult)"
   ]
  },
  {
   "cell_type": "markdown",
   "metadata": {},
   "source": [
    "Multiplication"
   ]
  },
  {
   "cell_type": "code",
   "execution_count": 9,
   "metadata": {},
   "outputs": [],
   "source": [
    "backgroundImage = cv2.imread('background.jpg')  \n",
    "greenScreenImage = cv2.imread('images.jpg') \n",
    "\n",
    "backgroundImage = cv2.resize(backgroundImage, (greenScreenImage.shape[1], greenScreenImage.shape[0]))\n",
    "\n",
    "backgroundImage = backgroundImage.astype(np.float32)\n",
    "greenScreenImage = greenScreenImage.astype(np.float32) / 255.0  \n",
    "multiplicationResult = cv2.multiply(backgroundImage, greenScreenImage)\n",
    "multiplicationResult = np.clip(multiplicationResult, 0, 255).astype(np.uint8)\n",
    "displayImage('Multiplication Result', multiplicationResult)\n"
   ]
  },
  {
   "cell_type": "markdown",
   "metadata": {},
   "source": [
    "Division"
   ]
  },
  {
   "cell_type": "code",
   "execution_count": 10,
   "metadata": {},
   "outputs": [],
   "source": [
    "backgroundImage = cv2.imread('background.jpg')  \n",
    "greenScreenImage = cv2.imread('images.jpg') \n",
    "\n",
    "backgroundImage = cv2.resize(backgroundImage, (greenScreenImage.shape[1], greenScreenImage.shape[0]))\n",
    "divisionResult = cv2.divide(backgroundImage, greenScreenImage, scale=255) \n",
    "displayImage('Division Result', divisionResult)"
   ]
  },
  {
   "cell_type": "markdown",
   "metadata": {},
   "source": [
    "Task#3: Green Screen Effect"
   ]
  },
  {
   "cell_type": "code",
   "execution_count": 11,
   "metadata": {},
   "outputs": [],
   "source": [
    "\n",
    "greenScreenImage = cv2.imread('images.jpg')\n",
    "displayImage(\"Green Screen Image\", greenScreenImage)\n",
    "backgroundImage = cv2.imread('background.jpg')\n",
    "displayImage('Background Image',backgroundImage)\n"
   ]
  },
  {
   "cell_type": "code",
   "execution_count": 12,
   "metadata": {},
   "outputs": [
    {
     "name": "stdout",
     "output_type": "stream",
     "text": [
      "(168, 299, 3)\n",
      "(168, 300, 3)\n",
      "(168, 299, 3)\n",
      "(168, 299, 3)\n"
     ]
    }
   ],
   "source": [
    "print(greenScreenImage.shape)\n",
    "print(backgroundImage.shape)\n",
    "backgroundImage = cv2.resize(backgroundImage, (greenScreenImage.shape[1], greenScreenImage.shape[0]))\n",
    "print(greenScreenImage.shape)\n",
    "print(backgroundImage.shape)\n",
    "\n"
   ]
  },
  {
   "cell_type": "code",
   "execution_count": 13,
   "metadata": {},
   "outputs": [],
   "source": [
    "greenHSV = cv2.cvtColor(greenScreenImage,cv2.COLOR_BGR2HSV)\n",
    "\n",
    "lower_green = np.array([35, 100, 100])\n",
    "upper_green = np.array([85, 255, 255])\n",
    "\n",
    "mask = cv2.inRange(greenHSV,lower_green,upper_green)\n",
    "displayImage('mask',mask)\n",
    "\n",
    "mask_inv = cv2.bitwise_not(mask)\n",
    "displayImage('Mask invert',mask_inv)\n"
   ]
  },
  {
   "cell_type": "code",
   "execution_count": 14,
   "metadata": {},
   "outputs": [],
   "source": [
    "fg_part = cv2.bitwise_and(greenScreenImage,greenScreenImage,mask=mask_inv)\n",
    "displayImage('Green Screen Image part',fg_part)\n",
    "\n",
    "\n",
    "bg_part = cv2.bitwise_and(backgroundImage,backgroundImage,mask=mask)\n",
    "displayImage('Background Image part',bg_part)\n"
   ]
  },
  {
   "cell_type": "code",
   "execution_count": 15,
   "metadata": {},
   "outputs": [],
   "source": [
    "final_image = cv2.add(fg_part,bg_part)\n",
    "displayImage(\"Final Result\",final_image)"
   ]
  },
  {
   "cell_type": "markdown",
   "metadata": {},
   "source": [
    "Task#4\n"
   ]
  },
  {
   "cell_type": "code",
   "execution_count": 27,
   "metadata": {},
   "outputs": [
    {
     "name": "stdout",
     "output_type": "stream",
     "text": [
      "(574, 1015)\n",
      "(574, 1015)\n"
     ]
    }
   ],
   "source": [
    "firstImage = cv2.imread('task41.png',cv2.IMREAD_GRAYSCALE)\n",
    "secondImage = cv2.imread('task42.png',cv2.IMREAD_GRAYSCALE)\n",
    "\n",
    "displayImage('First Image',firstImage)\n",
    "displayImage('Second Image',secondImage)\n",
    "\n",
    "print(firstImage.shape)\n",
    "print(secondImage.shape)\n",
    "\n",
    "resultImage = cv2.subtract(firstImage,secondImage)\n",
    "displayImage('Result Image',resultImage)\n"
   ]
  },
  {
   "cell_type": "code",
   "execution_count": null,
   "metadata": {},
   "outputs": [],
   "source": []
  }
 ],
 "metadata": {
  "kernelspec": {
   "display_name": "Python 3",
   "language": "python",
   "name": "python3"
  },
  "language_info": {
   "codemirror_mode": {
    "name": "ipython",
    "version": 3
   },
   "file_extension": ".py",
   "mimetype": "text/x-python",
   "name": "python",
   "nbconvert_exporter": "python",
   "pygments_lexer": "ipython3",
   "version": "3.12.3"
  }
 },
 "nbformat": 4,
 "nbformat_minor": 2
}
